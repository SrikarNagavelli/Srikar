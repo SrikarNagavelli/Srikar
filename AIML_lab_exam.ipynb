{
  "nbformat": 4,
  "nbformat_minor": 0,
  "metadata": {
    "colab": {
      "provenance": [],
      "authorship_tag": "ABX9TyP621dPL9WCucWwFCxjUami",
      "include_colab_link": true
    },
    "kernelspec": {
      "name": "python3",
      "display_name": "Python 3"
    },
    "language_info": {
      "name": "python"
    }
  },
  "cells": [
    {
      "cell_type": "markdown",
      "metadata": {
        "id": "view-in-github",
        "colab_type": "text"
      },
      "source": [
        "<a href=\"https://colab.research.google.com/github/SrikarNagavelli/Srikar/blob/main/AIML_lab_exam.ipynb\" target=\"_parent\"><img src=\"https://colab.research.google.com/assets/colab-badge.svg\" alt=\"Open In Colab\"/></a>"
      ]
    },
    {
      "cell_type": "markdown",
      "source": [],
      "metadata": {
        "id": "T1qHGblzC6J9"
      }
    },
    {
      "cell_type": "markdown",
      "source": [
        "Prediction of Room Occupancy Estimation\n",
        "\n",
        "Q1.Identify the max and min sound, light values liked by most customers?\n",
        "\n",
        "Q2. Identify the date and time when room occupancy was the most?\n",
        "\n",
        "Q3. Predict the temperature most suitable for most room\n",
        "\n",
        "occupancy?\n",
        "\n",
        "Q4. What levels of CO2 is suitable and not suitable for room occupancy?\n",
        "\n",
        "Q5. Does motion sensors contribute to increase or decrease of in room occupancy"
      ],
      "metadata": {
        "id": "ibjFCd-yCvI6"
      }
    },
    {
      "cell_type": "code",
      "execution_count": 1,
      "metadata": {
        "id": "XJSLs9EgBumW"
      },
      "outputs": [],
      "source": [
        "import pandas as pd\n",
        "# Load the dataset (update file_path as needed)\n",
        "file_path = \"/content/Occupancy_Estimation.csv\"\n",
        "data = pd.read_csv(file_path)"
      ]
    },
    {
      "cell_type": "code",
      "source": [
        "#question 1\n",
        "sound_cols = ['S1_Sound', 'S2_Sound', 'S3_Sound', 'S4_Sound']\n",
        "light_cols = ['S1_Light', 'S2_Light', 'S3_Light', 'S4_Light']\n",
        "max_sound = data[sound_cols].max().max()\n",
        "min_sound = data[sound_cols].min().min()\n",
        "max_light = data[light_cols].max().max()\n",
        "min_light = data[light_cols].min().min()\n",
        "print(f\"Max Sound: {max_sound}, Min Sound: {min_sound}\")\n",
        "print(f\"Max Light: {max_light}, Min Light: {min_light}\")"
      ],
      "metadata": {
        "colab": {
          "base_uri": "https://localhost:8080/",
          "height": 0
        },
        "id": "GZf13oAEBx28",
        "outputId": "e6a243e7-b2f1-48d0-9630-563aed248710"
      },
      "execution_count": 2,
      "outputs": [
        {
          "output_type": "stream",
          "name": "stdout",
          "text": [
            "Max Sound: 3.88, Min Sound: 0.04\n",
            "Max Light: 280, Min Light: 0\n"
          ]
        }
      ]
    },
    {
      "cell_type": "code",
      "source": [
        "#question 2\n",
        "if 'Room_Occupancy_Count' in data.columns:\n",
        "    max_occupancy_row = data.loc[data['Room_Occupancy_Count'].idxmax()]\n",
        "    max_occupancy_time = f\"{max_occupancy_row['Date']} {max_occupancy_row['Time']}\"\n",
        "    print(f\"Date and Time of Most Room Occupancy: {max_occupancy_time}\")\n",
        "else:\n",
        "    print(\"Room Occupancy Count column is not available.\")"
      ],
      "metadata": {
        "colab": {
          "base_uri": "https://localhost:8080/",
          "height": 0
        },
        "id": "9b4bNjA0B1ga",
        "outputId": "6f6627ea-a7ac-495d-ea5f-15d79c58aae9"
      },
      "execution_count": 3,
      "outputs": [
        {
          "output_type": "stream",
          "name": "stdout",
          "text": [
            "Date and Time of Most Room Occupancy: 2017/12/22 12:30:16\n"
          ]
        }
      ]
    },
    {
      "cell_type": "code",
      "source": [
        "# question 3\n",
        "temp_cols = ['S1_Temp', 'S2_Temp', 'S3_Temp', 'S4_Temp']\n",
        "if 'Room_Occupancy_Count' in data.columns:\n",
        "    avg_temps = data[temp_cols].mean(axis=1)\n",
        "    data['Avg_Temperature'] = avg_temps\n",
        "    suitable_temp = data.loc[data['Room_Occupancy_Count'].idxmax(), 'Avg_Temperature']\n",
        "    print(f\"Temperature most suitable for room occupancy: {suitable_temp}\")\n",
        "else:\n",
        "    print(\"Room Occupancy Count column is not available.\")"
      ],
      "metadata": {
        "colab": {
          "base_uri": "https://localhost:8080/",
          "height": 0
        },
        "id": "MpRQ07yDB4t6",
        "outputId": "8fbc74a1-ded2-4844-a8f8-e9ad0b196190"
      },
      "execution_count": 4,
      "outputs": [
        {
          "output_type": "stream",
          "name": "stdout",
          "text": [
            "Temperature most suitable for room occupancy: 26.330000000000002\n"
          ]
        }
      ]
    },
    {
      "cell_type": "code",
      "source": [
        "#question 4\n",
        "if 'S5_CO2' in data.columns:\n",
        "    avg_co2 = data.groupby('Room_Occupancy_Count')['S5_CO2'].mean()\n",
        "    print(\"\\nCO2 levels by room occupancy:\")\n",
        "    print(avg_co2)\n",
        "else:\n",
        "    print(\"CO2 column is not available.\")"
      ],
      "metadata": {
        "colab": {
          "base_uri": "https://localhost:8080/",
          "height": 0
        },
        "id": "K8VSr3aNB8pY",
        "outputId": "ffe1604b-2b12-46cc-96cb-59ee7f3b7ac3"
      },
      "execution_count": 5,
      "outputs": [
        {
          "output_type": "stream",
          "name": "stdout",
          "text": [
            "\n",
            "CO2 levels by room occupancy:\n",
            "Room_Occupancy_Count\n",
            "0    404.446403\n",
            "1    470.718954\n",
            "2    713.168449\n",
            "3    851.239193\n",
            "Name: S5_CO2, dtype: float64\n"
          ]
        }
      ]
    },
    {
      "cell_type": "code",
      "source": [
        "#question 5\n",
        "motion_cols = ['S6_PIR', 'S7_PIR']\n",
        "if 'Room_Occupancy_Count' in data.columns:\n",
        "    motion_correlation = data[motion_cols].corrwith(data['Room_Occupancy_Count'])\n",
        "    print(\"\\nMotion Sensors Correlation with Room Occupancy:\")\n",
        "    print(motion_correlation)\n",
        "else:\n",
        "    print(\"Motion sensor or Room Occupancy Count column is not available.\")"
      ],
      "metadata": {
        "colab": {
          "base_uri": "https://localhost:8080/",
          "height": 0
        },
        "id": "-qjfeP87CIlx",
        "outputId": "eb04ac01-ae62-4f43-f936-466e386b4a11"
      },
      "execution_count": 6,
      "outputs": [
        {
          "output_type": "stream",
          "name": "stdout",
          "text": [
            "\n",
            "Motion Sensors Correlation with Room Occupancy:\n",
            "S6_PIR    0.633133\n",
            "S7_PIR    0.695138\n",
            "dtype: float64\n"
          ]
        }
      ]
    }
  ]
}